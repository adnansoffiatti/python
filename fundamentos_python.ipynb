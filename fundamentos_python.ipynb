{
 "cells": [
  {
   "attachments": {},
   "cell_type": "markdown",
   "metadata": {},
   "source": [
    "# 1. Primeiros passos"
   ]
  },
  {
   "attachments": {},
   "cell_type": "markdown",
   "metadata": {},
   "source": [
    "Clique duas vezes (ou pressione \"Enter\") para editar"
   ]
  },
  {
   "cell_type": "code",
   "execution_count": 1,
   "metadata": {},
   "outputs": [
    {
     "name": "stdout",
     "output_type": "stream",
     "text": [
      "Hello World\n"
     ]
    }
   ],
   "source": [
    "print('Hello World')"
   ]
  },
  {
   "cell_type": "code",
   "execution_count": 2,
   "metadata": {},
   "outputs": [
    {
     "name": "stdout",
     "output_type": "stream",
     "text": [
      "Olá Adnan\n",
      "Sua idade é 37 anos.\n",
      "Seu peso é 95kg.\n"
     ]
    }
   ],
   "source": [
    "print('Olá Adnan')\n",
    "print('Sua idade é 37 anos.')\n",
    "print('Seu peso é 95kg.')"
   ]
  },
  {
   "cell_type": "code",
   "execution_count": 5,
   "metadata": {},
   "outputs": [
    {
     "name": "stdout",
     "output_type": "stream",
     "text": [
      "Olá, Carlos !\n",
      "Sua idade é 18 anos.\n",
      "Seu peso é 67 kg.\n"
     ]
    }
   ],
   "source": [
    "nome = 'Carlos'\n",
    "idade = '18'\n",
    "peso = '67'\n",
    "print('Olá, '+nome+' !')\n",
    "print('Sua idade é '+idade+' anos.')\n",
    "print('Seu peso é '+peso+' kg.')"
   ]
  },
  {
   "cell_type": "code",
   "execution_count": 6,
   "metadata": {},
   "outputs": [
    {
     "name": "stdout",
     "output_type": "stream",
     "text": [
      "Olá, Carlos\n",
      "Sua idade é 18 anos.\n",
      "Seu peso é 67kg.\n"
     ]
    }
   ],
   "source": [
    "print(f'Olá, {nome}')\n",
    "print(f'Sua idade é {idade} anos.')\n",
    "print(f'Seu peso é {peso}kg.')"
   ]
  },
  {
   "cell_type": "markdown",
   "metadata": {},
   "source": []
  },
  {
   "cell_type": "markdown",
   "metadata": {},
   "source": []
  }
 ],
 "metadata": {
  "kernelspec": {
   "display_name": "base",
   "language": "python",
   "name": "python3"
  },
  "language_info": {
   "codemirror_mode": {
    "name": "ipython",
    "version": 3
   },
   "file_extension": ".py",
   "mimetype": "text/x-python",
   "name": "python",
   "nbconvert_exporter": "python",
   "pygments_lexer": "ipython3",
   "version": "3.9.13"
  },
  "orig_nbformat": 4
 },
 "nbformat": 4,
 "nbformat_minor": 2
}
